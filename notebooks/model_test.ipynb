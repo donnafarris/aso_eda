{
 "cells": [
  {
   "cell_type": "code",
   "execution_count": 1,
   "metadata": {},
   "outputs": [
    {
     "name": "stdout",
     "output_type": "stream",
     "text": [
      "R      28673\n",
      "O      27851\n",
      "L       1096\n",
      "ERR      925\n",
      "DK       675\n",
      "N        289\n",
      "D        182\n",
      "E         93\n",
      "Name: count, dtype: int64\n",
      "Mapping of numbers to statuses: {0: 'R', 1: 'O', 2: 'N', 3: 'ERR', 4: 'L', 5: 'D', 6: 'E', 7: 'DK'}\n"
     ]
    }
   ],
   "source": [
    "import pandas as pd\n",
    "import joblib\n",
    "from sklearn.impute import SimpleImputer\n",
    "from sklearn.preprocessing import LabelEncoder\n",
    "\n",
    "# Load the trained model, scaler, and status mapping\n",
    "model = joblib.load('../artifacts/best_random_forest_orbital_parameters_model.joblib')\n",
    "scaler = joblib.load('../artifacts/scaler.joblib')\n",
    "status_mapping = joblib.load('../artifacts/status_mapping.joblib')\n",
    "\n",
    "# Reverse the status mapping\n",
    "reverse_status_mapping = {v: k for k, v in status_mapping.items()}\n",
    "\n",
    "# Load the dataset\n",
    "file_path = '../data/combined_df.csv'\n",
    "data = pd.read_csv(file_path, low_memory=False)\n",
    "\n",
    "# Selecting features for prediction\n",
    "features = [\n",
    "    'period_mins', 'perigee_km', 'apogee_km', 'inclination',\n",
    "    'object_type', 'object_owner'\n",
    "]\n",
    "\n",
    "# Handling missing values in the test data\n",
    "imputer = SimpleImputer(strategy='most_frequent')\n",
    "data[features] = imputer.fit_transform(data[features])\n",
    "\n",
    "# Encode categorical features\n",
    "label_encoders = {}\n",
    "for col in features:\n",
    "    if data[col].dtype == 'object':\n",
    "        label_encoders[col] = LabelEncoder()\n",
    "        data[col] = label_encoders[col].fit_transform(data[col])\n",
    "\n",
    "# Standardize the test data using the loaded scaler\n",
    "test_data = data[features]\n",
    "test_data_scaled = scaler.transform(test_data)\n",
    "\n",
    "# Predict the status using the loaded model\n",
    "predictions = model.predict(test_data_scaled)\n",
    "\n",
    "# Map the numerical predictions to the original status labels\n",
    "predicted_statuses = [reverse_status_mapping[pred] for pred in predictions]\n",
    "\n",
    "# Convert the predicted statuses to a pandas Series to get a summary\n",
    "predicted_statuses_series = pd.Series(predicted_statuses)\n",
    "\n",
    "# Print a summary of the predicted statuses\n",
    "print(predicted_statuses_series.value_counts())\n",
    "\n",
    "# If you want to see the mapping of numbers to statuses for reference\n",
    "print(f\"Mapping of numbers to statuses: {reverse_status_mapping}\")\n"
   ]
  }
 ],
 "metadata": {
  "language_info": {
   "name": "python"
  }
 },
 "nbformat": 4,
 "nbformat_minor": 2
}
