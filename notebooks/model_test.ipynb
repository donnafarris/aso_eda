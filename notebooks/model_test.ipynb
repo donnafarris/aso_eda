{
 "cells": [
  {
   "cell_type": "code",
   "execution_count": 1,
   "metadata": {},
   "outputs": [
    {
     "name": "stdout",
     "output_type": "stream",
     "text": [
      "R      28560\n",
      "O      27068\n",
      "ERR     1497\n",
      "L       1073\n",
      "DK       688\n",
      "N        605\n",
      "D        194\n",
      "E         99\n",
      "Name: count, dtype: int64\n",
      "Mapping of numbers to statuses: {0: 'R', 1: 'O', 2: 'N', 3: 'ERR', 4: 'L', 5: 'D', 6: 'E', 7: 'DK'}\n"
     ]
    }
   ],
   "source": [
    "from pandas import read_csv, Series\n",
    "from joblib import load\n",
    "from sklearn.impute import SimpleImputer\n",
    "from sklearn.preprocessing import LabelEncoder\n",
    "\n",
    "# Load the trained model, scaler, and status mapping\n",
    "model = load('../artifacts/ran_for_model.joblib')\n",
    "scaler = load('../artifacts/scaler.joblib')\n",
    "status_mapping = load('../artifacts/status_mapping.joblib')\n",
    "\n",
    "# Reverse the status mapping\n",
    "reverse_status_mapping = {v: k for k, v in status_mapping.items()}\n",
    "\n",
    "# Load the dataset\n",
    "file_path = '../data/combined_df.csv'\n",
    "data = read_csv(file_path, low_memory=False)\n",
    "\n",
    "# Selecting features for prediction\n",
    "features = ['total_mass', 'span', 'period_mins', 'perigee_km', 'apogee_km',\n",
    "                'inclination', 'object_type']\n",
    "\n",
    "# Handling missing values in the test data\n",
    "imputer = SimpleImputer(strategy='most_frequent')\n",
    "data[features] = imputer.fit_transform(data[features])\n",
    "\n",
    "# Encode categorical features\n",
    "label_encoders = {}\n",
    "for col in features:\n",
    "    if data[col].dtype == 'object':\n",
    "        label_encoders[col] = LabelEncoder()\n",
    "        data[col] = label_encoders[col].fit_transform(data[col])\n",
    "\n",
    "# Standardize the test data using the loaded scaler\n",
    "test_data = data[features]\n",
    "test_data_scaled = scaler.transform(test_data)\n",
    "\n",
    "# Predict the status using the loaded model\n",
    "predictions = model.predict(test_data_scaled)\n",
    "\n",
    "# Map the numerical predictions to the original status labels\n",
    "predicted_statuses = [reverse_status_mapping[pred] for pred in predictions]\n",
    "\n",
    "# Convert the predicted statuses to a pandas Series to get a summary\n",
    "predicted_statuses_series = Series(predicted_statuses)\n",
    "\n",
    "# Print a summary of the predicted statuses\n",
    "print(predicted_statuses_series.value_counts())\n",
    "\n",
    "# If you want to see the mapping of numbers to statuses for reference\n",
    "print(f\"Mapping of numbers to statuses: {reverse_status_mapping}\")\n"
   ]
  }
 ],
 "metadata": {
  "kernelspec": {
   "display_name": "base",
   "language": "python",
   "name": "python3"
  },
  "language_info": {
   "codemirror_mode": {
    "name": "ipython",
    "version": 3
   },
   "file_extension": ".py",
   "mimetype": "text/x-python",
   "name": "python",
   "nbconvert_exporter": "python",
   "pygments_lexer": "ipython3",
   "version": "3.11.7"
  }
 },
 "nbformat": 4,
 "nbformat_minor": 2
}
