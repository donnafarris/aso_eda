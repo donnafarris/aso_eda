{
 "cells": [
  {
   "cell_type": "code",
   "execution_count": 1,
   "metadata": {},
   "outputs": [],
   "source": [
    "import pandas as pd"
   ]
  },
  {
   "cell_type": "code",
   "execution_count": 2,
   "metadata": {},
   "outputs": [],
   "source": [
    "df = pd.read_csv('../data/psatcat.csv')"
   ]
  },
  {
   "cell_type": "code",
   "execution_count": 3,
   "metadata": {},
   "outputs": [
    {
     "name": "stdout",
     "output_type": "stream",
     "text": [
      "<class 'pandas.core.frame.DataFrame'>\n",
      "RangeIndex: 19251 entries, 0 to 19250\n",
      "Data columns (total 24 columns):\n",
      " #   Column      Non-Null Count  Dtype \n",
      "---  ------      --------------  ----- \n",
      " 0   #JCAT       19251 non-null  object\n",
      " 1   Piece       19250 non-null  object\n",
      " 2   Name        19250 non-null  object\n",
      " 3   LDate       19250 non-null  object\n",
      " 4   TLast       19250 non-null  object\n",
      " 5   TOp         19250 non-null  object\n",
      " 6   TDate       19250 non-null  object\n",
      " 7   TF          19250 non-null  object\n",
      " 8   Program     19250 non-null  object\n",
      " 9   Plane       19250 non-null  object\n",
      " 10  Att         19250 non-null  object\n",
      " 11  Mvr         19250 non-null  object\n",
      " 12  Class       19250 non-null  object\n",
      " 13  Category    19250 non-null  object\n",
      " 14  UNState     19250 non-null  object\n",
      " 15  UNReg       19250 non-null  object\n",
      " 16  UNPeriod    19250 non-null  object\n",
      " 17  UNPerigee   19250 non-null  object\n",
      " 18  UNApogee    19250 non-null  object\n",
      " 19  UNInc       19250 non-null  object\n",
      " 20  Result      19250 non-null  object\n",
      " 21  Control     19250 non-null  object\n",
      " 22  Discipline  19250 non-null  object\n",
      " 23  Comment     19250 non-null  object\n",
      "dtypes: object(24)\n",
      "memory usage: 3.5+ MB\n"
     ]
    }
   ],
   "source": [
    "df.info()"
   ]
  },
  {
   "cell_type": "code",
   "execution_count": 4,
   "metadata": {},
   "outputs": [],
   "source": [
    "df = df.rename(columns={\n",
    "    '#JCAT': 'GCAT', \n",
    "    'Piece': 'SatPiece', \n",
    "    'Name': 'SatName', \n",
    "    'LDate': 'LaunchDate', \n",
    "    'TLast': 'LastKnownActiveTime', \n",
    "    'TOp': 'EndOperationDate', \n",
    "    'TDate': 'EndTransmissionDate', \n",
    "    'TF': 'EndTransmissionFlag',\n",
    "    'Program': 'Program', \n",
    "    'Plane': 'OrbitalPlane', \n",
    "    'Att': 'AttitudeControl', \n",
    "    'Mvr': 'ManeuverabilityFlag', \n",
    "    'Class': 'Class', \n",
    "    'Category': 'Category', \n",
    "    'UNState': 'UNState',\n",
    "    'UNReg': 'UNReg', \n",
    "    'UNPeriod':'UNPeriod', \n",
    "    'UNPerigee':'UNPerigee', \n",
    "    'UNApogee':'UNApogee', \n",
    "    'UNInc':'UNInc', \n",
    "    'Result': 'Result',\n",
    "    'Control':'ControlCenter', \n",
    "    'Discipline':'Discipline', \n",
    "    'Comment':'Comment'\n",
    "})"
   ]
  },
  {
   "cell_type": "code",
   "execution_count": 5,
   "metadata": {},
   "outputs": [
    {
     "data": {
      "text/plain": [
       "Index(['GCAT', 'SatPiece', 'SatName', 'LaunchDate', 'LastKnownActiveTime',\n",
       "       'EndOperationDate', 'EndTransmissionDate', 'EndTransmissionFlag',\n",
       "       'Program', 'OrbitalPlane', 'AttitudeControl', 'ManeuverabilityFlag',\n",
       "       'Class', 'Category', 'UNState', 'UNReg', 'UNPeriod', 'UNPerigee',\n",
       "       'UNApogee', 'UNInc', 'Result', 'ControlCenter', 'Discipline',\n",
       "       'Comment'],\n",
       "      dtype='object')"
      ]
     },
     "execution_count": 5,
     "metadata": {},
     "output_type": "execute_result"
    }
   ],
   "source": [
    "df.columns"
   ]
  }
 ],
 "metadata": {
  "kernelspec": {
   "display_name": "base",
   "language": "python",
   "name": "python3"
  },
  "language_info": {
   "codemirror_mode": {
    "name": "ipython",
    "version": 3
   },
   "file_extension": ".py",
   "mimetype": "text/x-python",
   "name": "python",
   "nbconvert_exporter": "python",
   "pygments_lexer": "ipython3",
   "version": "3.11.7"
  }
 },
 "nbformat": 4,
 "nbformat_minor": 2
}
