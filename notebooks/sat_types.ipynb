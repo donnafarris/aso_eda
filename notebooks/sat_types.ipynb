{
 "cells": [
  {
   "cell_type": "code",
   "execution_count": 12,
   "metadata": {},
   "outputs": [],
   "source": [
    "import pandas as pd"
   ]
  },
  {
   "cell_type": "code",
   "execution_count": 13,
   "metadata": {},
   "outputs": [],
   "source": [
    "df = pd.read_csv('../data/psatcat.tsv.csv')"
   ]
  },
  {
   "cell_type": "code",
   "execution_count": 15,
   "metadata": {},
   "outputs": [
    {
     "data": {
      "text/plain": [
       "Index(['#JCAT', 'Piece', 'Name', 'LDate', 'TLast', 'TOp', 'TDate', 'TF',\n",
       "       'Program', 'Plane', 'Att', 'Mvr', 'Class', 'Category', 'UNState',\n",
       "       'UNReg', 'UNPeriod', 'UNPerigee', 'UNApogee', 'UNInc', 'Result',\n",
       "       'Control', 'Discipline', 'Comment'],\n",
       "      dtype='object')"
      ]
     },
     "execution_count": 15,
     "metadata": {},
     "output_type": "execute_result"
    }
   ],
   "source": [
    "df.columns"
   ]
  },
  {
   "cell_type": "code",
   "execution_count": 17,
   "metadata": {},
   "outputs": [],
   "source": [
    "df = df.rename(columns={\n",
    "    '#JCAT': 'GCAT', \n",
    "    'Piece': 'SatPiece', \n",
    "    'Name': 'SatName', \n",
    "    'LDate': 'LaunchDate', \n",
    "    'TLast': 'LastKnownActiveTime', \n",
    "    'TOp': 'EndOperationDate', \n",
    "    'TDate': 'EndTransmissionDate', \n",
    "    'TF': 'EndTransmissionFlag',\n",
    "    'Program': 'Program', \n",
    "    'Plane': 'OrbitalPlane', \n",
    "    'Att': 'AttitudeControl', \n",
    "    'Mvr': 'ManeuverabilityFlag', \n",
    "    'Class': 'Class', \n",
    "    'Category': 'Category', \n",
    "    'UNState': 'UNState',\n",
    "    'UNReg': 'UNReg', \n",
    "    'UNPeriod':'UNPeriod', \n",
    "    'UNPerigee':'UNPerigee', \n",
    "    'UNApogee':'UNApogee', \n",
    "    'UNInc':'UNInc', \n",
    "    'Result': 'Result',\n",
    "    'Control':'ControlCenter', \n",
    "    'Discipline':'Discipline', \n",
    "    'Comment':'Comment'\n",
    "})"
   ]
  },
  {
   "cell_type": "code",
   "execution_count": 18,
   "metadata": {},
   "outputs": [
    {
     "data": {
      "text/plain": [
       "Index(['GCAT', 'SatPiece', 'SatName', 'LaunchDate', 'LastKnownActiveTime',\n",
       "       'EndOperationDate', 'EndTransmissionDate', 'EndTransmissionFlag',\n",
       "       'Program', 'OrbitalPlane', 'AttitudeControl', 'ManeuverabilityFlag',\n",
       "       'Class', 'Category', 'UNState', 'UNReg', 'UNPeriod', 'UNPerigee',\n",
       "       'UNApogee', 'UNInc', 'Result', 'ControlCenter', 'Discipline',\n",
       "       'Comment'],\n",
       "      dtype='object')"
      ]
     },
     "execution_count": 18,
     "metadata": {},
     "output_type": "execute_result"
    }
   ],
   "source": [
    "df.columns"
   ]
  }
 ],
 "metadata": {
  "kernelspec": {
   "display_name": "base",
   "language": "python",
   "name": "python3"
  },
  "language_info": {
   "codemirror_mode": {
    "name": "ipython",
    "version": 3
   },
   "file_extension": ".py",
   "mimetype": "text/x-python",
   "name": "python",
   "nbconvert_exporter": "python",
   "pygments_lexer": "ipython3",
   "version": "3.11.7"
  }
 },
 "nbformat": 4,
 "nbformat_minor": 2
}
