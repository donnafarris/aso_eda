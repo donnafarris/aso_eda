{
 "cells": [
  {
   "cell_type": "code",
   "execution_count": 15,
   "metadata": {},
   "outputs": [],
   "source": [
    "import pandas as pd"
   ]
  },
  {
   "cell_type": "code",
   "execution_count": 16,
   "metadata": {},
   "outputs": [
    {
     "name": "stderr",
     "output_type": "stream",
     "text": [
      "C:\\Users\\dfarr\\AppData\\Local\\Temp\\ipykernel_10556\\3574278530.py:2: DtypeWarning: Columns (2) have mixed types. Specify dtype option on import or set low_memory=False.\n",
      "  satcat_df = pd.read_csv('../data/4589_satcat.csv').drop(columns='Unnamed: 0')\n"
     ]
    }
   ],
   "source": [
    "# Combined Satellite Catalog: Objects from the US Satellite Catalog, Objects omitted from the US catalog, Objects which failed to reach orbit\n",
    "satcat_df = pd.read_csv('../data/4589_satcat.csv').drop(columns='Unnamed: 0')\n",
    "psatcat_df = pd.read_csv('../data/psatcat.tsv.csv')"
   ]
  },
  {
   "cell_type": "code",
   "execution_count": 17,
   "metadata": {},
   "outputs": [
    {
     "data": {
      "text/plain": [
       "{'Satcat': array([<class 'float'>, <class 'int'>, <class 'str'>], dtype=object)}"
      ]
     },
     "execution_count": 17,
     "metadata": {},
     "output_type": "execute_result"
    }
   ],
   "source": [
    "def check_mixed_types(df):\n",
    "    mixed_types_columns = {}\n",
    "    for col in df.columns:\n",
    "        types = df[col].map(type).unique()\n",
    "        if len(types) > 1:\n",
    "            mixed_types_columns[col] = types\n",
    "    return mixed_types_columns\n",
    "\n",
    "mixed_types_columns = check_mixed_types(satcat_df)\n",
    "mixed_types_columns"
   ]
  },
  {
   "cell_type": "code",
   "execution_count": 18,
   "metadata": {},
   "outputs": [
    {
     "data": {
      "text/plain": [
       "(71292, 41)"
      ]
     },
     "execution_count": 18,
     "metadata": {},
     "output_type": "execute_result"
    }
   ],
   "source": [
    "satcat_df.shape"
   ]
  },
  {
   "cell_type": "code",
   "execution_count": 19,
   "metadata": {},
   "outputs": [
    {
     "data": {
      "text/plain": [
       "Index(['#JCAT', 'Satcat', 'Piece', 'Type', 'Name', 'PLName', 'LDate', 'Parent',\n",
       "       'SDate', 'Primary', 'DDate', 'Status', 'Dest', 'Owner', 'State',\n",
       "       'Manufacturer', 'Bus', 'Motor', 'Mass', 'MassFlag', 'DryMass',\n",
       "       'DryFlag', 'TotMass', 'TotFlag', 'Length', 'LFlag', 'Diameter', 'DFlag',\n",
       "       'Span', 'SpanFlag', 'Shape', 'ODate', 'Perigee', 'PF', 'Apogee', 'AF',\n",
       "       'Inc', 'IF', 'OpOrbit', 'OQUAL', 'AltNames'],\n",
       "      dtype='object')"
      ]
     },
     "execution_count": 19,
     "metadata": {},
     "output_type": "execute_result"
    }
   ],
   "source": [
    "satcat_df.columns"
   ]
  },
  {
   "cell_type": "code",
   "execution_count": 20,
   "metadata": {},
   "outputs": [],
   "source": [
    "satcat_df = satcat_df.rename(columns={\n",
    "    '#JCAT': 'GCAT', \n",
    "    'Satcat': 'SATCAT', \n",
    "    'Piece': 'SatPiece', \n",
    "    'Type': 'SatType', \n",
    "    'Name': 'SatName', \n",
    "    'PLName': 'PayloadName', \n",
    "    'LDate': 'LaunchDate', \n",
    "    'Parent': 'SatParent',\n",
    "    'SDate': 'SeparationDate', \n",
    "    'Primary': 'CentralBody', \n",
    "    'DDate': 'PhaseEndDate', \n",
    "    'Status': 'Status', \n",
    "    'Dest': 'Destination', \n",
    "    'Owner': 'Owner/Operator', \n",
    "    'State': 'OwnerState',\n",
    "    'Manufacturer': 'ManufacturerOrg', \n",
    "    'Bus': 'BusType', \n",
    "    'Motor': 'MainPropulsion', \n",
    "    'Mass': 'Mass', \n",
    "    'MassFlag': 'MassFlag', \n",
    "    'DryMass':'DryMass',\n",
    "    'DryFlag':'DryFlag', \n",
    "    'TotMass':'TotMass', \n",
    "    'TotFlag':'TotFlag', \n",
    "    'Length':'Length', \n",
    "    'LFlag':'LFlag', \n",
    "    'Diameter':'Diameter', \n",
    "    'DFlag':'DFlag',\n",
    "    'Span':'Span', \n",
    "    'SpanFlag':'SpanFlag', \n",
    "    'Shape':'Shape', \n",
    "    'ODate':'OrbitEpochDate', \n",
    "    'Perigee':'Perigee', \n",
    "    'PF':'PF', \n",
    "    'Apogee':'Apogee', \n",
    "    'AF':'AF',\n",
    "    'Inc': 'Inclination', \n",
    "    'IF': 'IF', \n",
    "    'OpOrbit': 'OrbitType', \n",
    "    'OQUAL':'OrbitQualityNote', \n",
    "    'AltNames': 'AltNames'\n",
    "})"
   ]
  },
  {
   "cell_type": "code",
   "execution_count": 21,
   "metadata": {},
   "outputs": [],
   "source": [
    "# Organizations Catalog:  The country of origin, owner organization, and/or manufacturer of the object of interest\n",
    "orgs_df = pd.read_csv('../data/orgs.csv').drop(columns=['Unnamed: 0', 'Unnamed: 0.1'])"
   ]
  },
  {
   "cell_type": "code",
   "execution_count": 22,
   "metadata": {},
   "outputs": [
    {
     "data": {
      "text/plain": [
       "(3707, 17)"
      ]
     },
     "execution_count": 22,
     "metadata": {},
     "output_type": "execute_result"
    }
   ],
   "source": [
    "orgs_df.shape"
   ]
  },
  {
   "cell_type": "code",
   "execution_count": 23,
   "metadata": {},
   "outputs": [
    {
     "data": {
      "text/plain": [
       "Index(['#Code', 'UCode', 'StateCode', 'Type', 'Class', 'TStart', 'TStop',\n",
       "       'ShortName', 'Name', 'Location', 'Longitude', 'Latitude', 'Error',\n",
       "       'Parent', 'ShortEName', 'EName', 'UName'],\n",
       "      dtype='object')"
      ]
     },
     "execution_count": 23,
     "metadata": {},
     "output_type": "execute_result"
    }
   ],
   "source": [
    "orgs_df.columns"
   ]
  },
  {
   "cell_type": "code",
   "execution_count": 25,
   "metadata": {},
   "outputs": [],
   "source": [
    "orgs_df = orgs_df.rename(columns={\n",
    "    '#Code': 'OrgCode', \n",
    "    'UCode': 'UnifiedOrgCode', \n",
    "    'StateCode': 'StateCode', \n",
    "    'Type': 'OrgType', \n",
    "    'Class': 'OrgClass', \n",
    "    'TStart': 'OrgPhaseStartTime', \n",
    "    'TStop': 'OrgPhaseStopTime',\n",
    "    'ShortName': 'ShortOrgName', \n",
    "    'Name': 'FullOrgName', \n",
    "    'Location': 'OrgLocation', \n",
    "    'Longitude': 'OrgLongitude', \n",
    "    'Latitude': 'OrgLatitude', \n",
    "    'Error': 'LatLongError',\n",
    "    'Parent': 'ParentOrgCode', \n",
    "    'ShortEName': 'OrgShortEnglishName', \n",
    "    'EName': 'OrgFullEnglishName', \n",
    "    'UName': 'OrgUnicodeName'})"
   ]
  },
  {
   "cell_type": "code",
   "execution_count": 26,
   "metadata": {},
   "outputs": [
    {
     "name": "stdout",
     "output_type": "stream",
     "text": [
      "Index(['OrgCode', 'UnifiedOrgCode', 'StateCode', 'OrgType', 'OrgClass',\n",
      "       'OrgPhaseStartTime', 'OrgPhaseStopTime', 'ShortOrgName', 'FullOrgName',\n",
      "       'OrgLocation', 'OrgLongitude', 'OrgLatitude', 'LatLongError',\n",
      "       'ParentOrgCode', 'OrgShortEnglishName', 'OrgFullEnglishName',\n",
      "       'OrgUnicodeName'],\n",
      "      dtype='object')\n",
      "Index(['GCAT', 'SATCAT', 'SatPiece', 'SatType', 'SatName', 'PayloadName',\n",
      "       'LaunchDate', 'SatParent', 'SeparationDate', 'CentralBody',\n",
      "       'PhaseEndDate', 'Status', 'Destination', 'Owner/Operator', 'OwnerState',\n",
      "       'ManufacturerOrg', 'BusType', 'MainPropulsion', 'Mass', 'MassFlag',\n",
      "       'DryMass', 'DryFlag', 'TotMass', 'TotFlag', 'Length', 'LFlag',\n",
      "       'Diameter', 'DFlag', 'Span', 'SpanFlag', 'Shape', 'OrbitEpochDate',\n",
      "       'Perigee', 'PF', 'Apogee', 'AF', 'Inclination', 'IF', 'OrbitType',\n",
      "       'OrbitQualityNote', 'AltNames'],\n",
      "      dtype='object')\n"
     ]
    }
   ],
   "source": [
    "print(orgs_df.columns)\n",
    "print(satcat_df.columns)\n",
    "# satcat_df['Owner/Operator'] = orgs_df['UnifiedOrgCode']\n",
    "# satcat_df['OwnerState'] = orgs_df['StateCode']"
   ]
  },
  {
   "cell_type": "code",
   "execution_count": 43,
   "metadata": {},
   "outputs": [
    {
     "name": "stdout",
     "output_type": "stream",
     "text": [
      "There are 112 owner/operators with more than 50 satellites.\n"
     ]
    }
   ],
   "source": [
    "objects_by_owner = satcat_df.groupby('Owner/Operator').size().reset_index(name='Count')\n",
    "objects_by_owner = objects_by_owner[(objects_by_owner['Owner/Operator'] != '-') & (objects_by_owner['Count'] > 49)]\n",
    "print(f\"There are {objects_by_owner.shape[0]} owner/operators with more than 50 satellites.\")"
   ]
  },
  {
   "cell_type": "code",
   "execution_count": 45,
   "metadata": {},
   "outputs": [],
   "source": [
    "satcat_df['LaunchDate'] = pd.to_datetime(satcat_df['LaunchDate'], errors='coerce')\n",
    "satcat_df['OrbitEpochDate'] = pd.to_datetime(satcat_df['OrbitEpochDate'], errors='coerce')\n",
    "satcat_df['PhaseEndDate'] = pd.to_datetime(satcat_df['PhaseEndDate'][satcat_df['PhaseEndDate'].notna()], errors='coerce')\n",
    "satcat_df['SeparationDate'] = pd.to_datetime(satcat_df['SeparationDate'], errors='coerce')"
   ]
  },
  {
   "cell_type": "code",
   "execution_count": 47,
   "metadata": {},
   "outputs": [
    {
     "data": {
      "text/html": [
       "<div>\n",
       "<style scoped>\n",
       "    .dataframe tbody tr th:only-of-type {\n",
       "        vertical-align: middle;\n",
       "    }\n",
       "\n",
       "    .dataframe tbody tr th {\n",
       "        vertical-align: top;\n",
       "    }\n",
       "\n",
       "    .dataframe thead th {\n",
       "        text-align: right;\n",
       "    }\n",
       "</style>\n",
       "<table border=\"1\" class=\"dataframe\">\n",
       "  <thead>\n",
       "    <tr style=\"text-align: right;\">\n",
       "      <th></th>\n",
       "      <th>LaunchDate</th>\n",
       "      <th>LaunchMonthYear</th>\n",
       "      <th>LaunchYear</th>\n",
       "    </tr>\n",
       "  </thead>\n",
       "  <tbody>\n",
       "    <tr>\n",
       "      <th>0</th>\n",
       "      <td>1957-10-04</td>\n",
       "      <td>1957-10</td>\n",
       "      <td>1957.0</td>\n",
       "    </tr>\n",
       "    <tr>\n",
       "      <th>1</th>\n",
       "      <td>1957-10-04</td>\n",
       "      <td>1957-10</td>\n",
       "      <td>1957.0</td>\n",
       "    </tr>\n",
       "    <tr>\n",
       "      <th>2</th>\n",
       "      <td>1957-11-03</td>\n",
       "      <td>1957-11</td>\n",
       "      <td>1957.0</td>\n",
       "    </tr>\n",
       "    <tr>\n",
       "      <th>3</th>\n",
       "      <td>1958-02-01</td>\n",
       "      <td>1958-02</td>\n",
       "      <td>1958.0</td>\n",
       "    </tr>\n",
       "    <tr>\n",
       "      <th>4</th>\n",
       "      <td>1958-03-17</td>\n",
       "      <td>1958-03</td>\n",
       "      <td>1958.0</td>\n",
       "    </tr>\n",
       "  </tbody>\n",
       "</table>\n",
       "</div>"
      ],
      "text/plain": [
       "  LaunchDate LaunchMonthYear  LaunchYear\n",
       "0 1957-10-04         1957-10      1957.0\n",
       "1 1957-10-04         1957-10      1957.0\n",
       "2 1957-11-03         1957-11      1957.0\n",
       "3 1958-02-01         1958-02      1958.0\n",
       "4 1958-03-17         1958-03      1958.0"
      ]
     },
     "execution_count": 47,
     "metadata": {},
     "output_type": "execute_result"
    }
   ],
   "source": [
    "satcat_df['LaunchYear'] = satcat_df['LaunchDate'].dt.year\n",
    "satcat_df['LaunchMonthYear'] = satcat_df['LaunchDate'].dt.to_period('M').astype(str)\n",
    "satcat_df[['LaunchDate', 'LaunchMonthYear', 'LaunchYear']].head()"
   ]
  },
  {
   "cell_type": "code",
   "execution_count": 53,
   "metadata": {},
   "outputs": [
    {
     "data": {
      "text/html": [
       "<div>\n",
       "<style scoped>\n",
       "    .dataframe tbody tr th:only-of-type {\n",
       "        vertical-align: middle;\n",
       "    }\n",
       "\n",
       "    .dataframe tbody tr th {\n",
       "        vertical-align: top;\n",
       "    }\n",
       "\n",
       "    .dataframe thead th {\n",
       "        text-align: right;\n",
       "    }\n",
       "</style>\n",
       "<table border=\"1\" class=\"dataframe\">\n",
       "  <thead>\n",
       "    <tr style=\"text-align: right;\">\n",
       "      <th></th>\n",
       "      <th>LaunchMonthYear</th>\n",
       "      <th>LaunchCount</th>\n",
       "      <th>LaunchCountCum</th>\n",
       "    </tr>\n",
       "  </thead>\n",
       "  <tbody>\n",
       "    <tr>\n",
       "      <th>0</th>\n",
       "      <td>1957-10</td>\n",
       "      <td>4</td>\n",
       "      <td>4</td>\n",
       "    </tr>\n",
       "    <tr>\n",
       "      <th>1</th>\n",
       "      <td>1957-11</td>\n",
       "      <td>3</td>\n",
       "      <td>7</td>\n",
       "    </tr>\n",
       "    <tr>\n",
       "      <th>2</th>\n",
       "      <td>1958-02</td>\n",
       "      <td>2</td>\n",
       "      <td>9</td>\n",
       "    </tr>\n",
       "    <tr>\n",
       "      <th>3</th>\n",
       "      <td>1958-03</td>\n",
       "      <td>5</td>\n",
       "      <td>14</td>\n",
       "    </tr>\n",
       "    <tr>\n",
       "      <th>4</th>\n",
       "      <td>1958-05</td>\n",
       "      <td>5</td>\n",
       "      <td>19</td>\n",
       "    </tr>\n",
       "    <tr>\n",
       "      <th>...</th>\n",
       "      <td>...</td>\n",
       "      <td>...</td>\n",
       "      <td>...</td>\n",
       "    </tr>\n",
       "    <tr>\n",
       "      <th>782</th>\n",
       "      <td>2024-03</td>\n",
       "      <td>301</td>\n",
       "      <td>70459</td>\n",
       "    </tr>\n",
       "    <tr>\n",
       "      <th>783</th>\n",
       "      <td>2024-04</td>\n",
       "      <td>255</td>\n",
       "      <td>70714</td>\n",
       "    </tr>\n",
       "    <tr>\n",
       "      <th>784</th>\n",
       "      <td>2024-05</td>\n",
       "      <td>322</td>\n",
       "      <td>71036</td>\n",
       "    </tr>\n",
       "    <tr>\n",
       "      <th>785</th>\n",
       "      <td>2024-06</td>\n",
       "      <td>103</td>\n",
       "      <td>71139</td>\n",
       "    </tr>\n",
       "    <tr>\n",
       "      <th>786</th>\n",
       "      <td>NaT</td>\n",
       "      <td>153</td>\n",
       "      <td>71292</td>\n",
       "    </tr>\n",
       "  </tbody>\n",
       "</table>\n",
       "<p>787 rows × 3 columns</p>\n",
       "</div>"
      ],
      "text/plain": [
       "    LaunchMonthYear  LaunchCount  LaunchCountCum\n",
       "0           1957-10            4               4\n",
       "1           1957-11            3               7\n",
       "2           1958-02            2               9\n",
       "3           1958-03            5              14\n",
       "4           1958-05            5              19\n",
       "..              ...          ...             ...\n",
       "782         2024-03          301           70459\n",
       "783         2024-04          255           70714\n",
       "784         2024-05          322           71036\n",
       "785         2024-06          103           71139\n",
       "786             NaT          153           71292\n",
       "\n",
       "[787 rows x 3 columns]"
      ]
     },
     "execution_count": 53,
     "metadata": {},
     "output_type": "execute_result"
    }
   ],
   "source": [
    "launches_over_time = satcat_df.groupby(['LaunchMonthYear']).size().reset_index(name='LaunchCount')\n",
    "launches_over_time['LaunchCountCum'] = launches_over_time['LaunchCount'].cumsum()\n",
    "launches_over_time"
   ]
  },
  {
   "cell_type": "code",
   "execution_count": 55,
   "metadata": {},
   "outputs": [],
   "source": [
    "dec_status_values = ['E', 'S', 'R', 'D', 'L', 'LF', 'AS', 'AR', 'AR IN', 'F', 'AF', 'C', 'ERR']"
   ]
  },
  {
   "cell_type": "code",
   "execution_count": 56,
   "metadata": {},
   "outputs": [],
   "source": [
    "# Get a df with decayed/de-orbited objects\n",
    "dec_obj_df = satcat_df[(satcat_df['Status'].isin(dec_status_values)) & (satcat_df['PhaseEndDate'].notna())]\n",
    "\n",
    "# Get a df with active objects\n",
    "act_obj_df = satcat_df[~satcat_df['Status'].isin(dec_status_values)]"
   ]
  },
  {
   "cell_type": "code",
   "execution_count": 63,
   "metadata": {},
   "outputs": [
    {
     "data": {
      "text/plain": [
       "0     -29492\n",
       "1     -29489\n",
       "2     -29487\n",
       "3     -29482\n",
       "4     -29477\n",
       "       ...  \n",
       "782    40963\n",
       "783    41218\n",
       "784    41540\n",
       "785    41643\n",
       "786    41796\n",
       "Name: LaunchCountCum, Length: 787, dtype: int64"
      ]
     },
     "execution_count": 63,
     "metadata": {},
     "output_type": "execute_result"
    }
   ],
   "source": [
    "launches_over_time['LaunchCountCum'] - dec_obj_df.shape[0]"
   ]
  },
  {
   "cell_type": "code",
   "execution_count": null,
   "metadata": {},
   "outputs": [],
   "source": [
    "# Get number of active satellites launched per year\n",
    "all_obj_df['LaunchYear'] = all_obj_df['LDate'].dt.year\n",
    "launches_per_yr = all_obj_df.groupby('LaunchYear').size()\n",
    "all_obj_df[all_obj_df['LaunchYear'] == 1957]"
   ]
  },
  {
   "cell_type": "code",
   "execution_count": null,
   "metadata": {},
   "outputs": [],
   "source": [
    "# Get number of satellites decayed each year\n",
    "dec_obj_df['DecayYear'] = dec_obj_df['DDate'].dt.year\n",
    "decays_per_yr = dec_obj_df.groupby('DecayYear').size()"
   ]
  },
  {
   "cell_type": "code",
   "execution_count": null,
   "metadata": {},
   "outputs": [],
   "source": [
    "# Create a dataframe to track sats in orbit each year\n",
    "years = range(int(all_obj_df['LDate'].dt.year.min()), int(all_obj_df['LDate'].dt.year.max() + 1))\n",
    "satellites_in_orbit = pd.DataFrame(years, columns=['Year']).set_index('Year')"
   ]
  },
  {
   "cell_type": "code",
   "execution_count": null,
   "metadata": {},
   "outputs": [],
   "source": [
    "launches_per_yr.cumsum()"
   ]
  },
  {
   "cell_type": "code",
   "execution_count": null,
   "metadata": {},
   "outputs": [],
   "source": [
    "satellites_in_orbit['Launched'] = launches_per_yr.cumsum()\n",
    "satellites_in_orbit['Decayed'] = decays_per_yr.cumsum()\n",
    "satellites_in_orbit = satellites_in_orbit.fillna(0)\n",
    "satellites_in_orbit['InOrbit'] = satellites_in_orbit['Launched'] - satellites_in_orbit['Decayed']"
   ]
  },
  {
   "cell_type": "code",
   "execution_count": null,
   "metadata": {},
   "outputs": [],
   "source": [
    "satellites_in_orbit.sample(5)"
   ]
  }
 ],
 "metadata": {
  "kernelspec": {
   "display_name": "base",
   "language": "python",
   "name": "python3"
  },
  "language_info": {
   "codemirror_mode": {
    "name": "ipython",
    "version": 3
   },
   "file_extension": ".py",
   "mimetype": "text/x-python",
   "name": "python",
   "nbconvert_exporter": "python",
   "pygments_lexer": "ipython3",
   "version": "3.11.7"
  }
 },
 "nbformat": 4,
 "nbformat_minor": 2
}
