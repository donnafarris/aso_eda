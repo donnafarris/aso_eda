{
 "cells": [
  {
   "cell_type": "code",
   "execution_count": 64,
   "metadata": {},
   "outputs": [],
   "source": [
    "import pandas as pd"
   ]
  },
  {
   "cell_type": "code",
   "execution_count": 65,
   "metadata": {},
   "outputs": [
    {
     "name": "stderr",
     "output_type": "stream",
     "text": [
      "C:\\Users\\dfarr\\AppData\\Local\\Temp\\ipykernel_14656\\3262813254.py:2: DtypeWarning: Columns (1,18,20,22,24,26,28,32,36) have mixed types. Specify dtype option on import or set low_memory=False.\n",
      "  satcat_df = pd.read_csv('../data/satcat.tsv', sep='\\t').drop(0, axis=0)\n"
     ]
    }
   ],
   "source": [
    "# Standard Satellite Catalog: Objects from the US Satellite Catalog\n",
    "satcat_df = pd.read_csv('../data/satcat.tsv', sep='\\t').drop(0, axis=0)"
   ]
  },
  {
   "cell_type": "code",
   "execution_count": 66,
   "metadata": {},
   "outputs": [],
   "source": [
    "# Auxiliary Satellite Catalog: Objects omitted from the US catalog\n",
    "auxcat_df = pd.read_csv('../data/auxcat.tsv', sep='\\t').drop(0, axis=0)"
   ]
  },
  {
   "cell_type": "code",
   "execution_count": 67,
   "metadata": {},
   "outputs": [],
   "source": [
    "# Failed Satellite Catalog: Objects which failed to reach orbit\n",
    "ftocat_df = pd.read_csv('../data/ftocat.tsv', sep='\\t').drop(0, axis=0)"
   ]
  },
  {
   "cell_type": "code",
   "execution_count": 68,
   "metadata": {},
   "outputs": [],
   "source": [
    "# Organizations Catalog:  The country of origin, owner organization, and/or manufacturer of the object of interest\n",
    "orgs_df = pd.read_csv('../data/orgs.tsv', sep='\\t').drop(0, axis=0)"
   ]
  },
  {
   "cell_type": "code",
   "execution_count": 69,
   "metadata": {},
   "outputs": [
    {
     "data": {
      "text/plain": [
       "(60057, 41)"
      ]
     },
     "execution_count": 69,
     "metadata": {},
     "output_type": "execute_result"
    }
   ],
   "source": [
    "satcat_df.shape"
   ]
  },
  {
   "cell_type": "code",
   "execution_count": 70,
   "metadata": {},
   "outputs": [
    {
     "data": {
      "text/plain": [
       "(11235, 41)"
      ]
     },
     "execution_count": 70,
     "metadata": {},
     "output_type": "execute_result"
    }
   ],
   "source": [
    "auxcat_df.shape"
   ]
  },
  {
   "cell_type": "code",
   "execution_count": 71,
   "metadata": {},
   "outputs": [
    {
     "data": {
      "text/plain": [
       "(1695, 41)"
      ]
     },
     "execution_count": 71,
     "metadata": {},
     "output_type": "execute_result"
    }
   ],
   "source": [
    "ftocat_df.shape"
   ]
  },
  {
   "cell_type": "code",
   "execution_count": 72,
   "metadata": {},
   "outputs": [
    {
     "data": {
      "text/plain": [
       "(3707, 17)"
      ]
     },
     "execution_count": 72,
     "metadata": {},
     "output_type": "execute_result"
    }
   ],
   "source": [
    "orgs_df.shape"
   ]
  },
  {
   "cell_type": "code",
   "execution_count": 73,
   "metadata": {},
   "outputs": [
    {
     "data": {
      "text/plain": [
       "(72987, 41)"
      ]
     },
     "execution_count": 73,
     "metadata": {},
     "output_type": "execute_result"
    }
   ],
   "source": [
    "# Object Catalogs Total Rows\n",
    "objcat_rows_total = satcat_df.shape[0] + auxcat_df.shape[0] + ftocat_df.shape[0]\n",
    "objcat_shape = (objcat_rows_total, 41)\n",
    "objcat_shape"
   ]
  },
  {
   "cell_type": "code",
   "execution_count": 74,
   "metadata": {},
   "outputs": [
    {
     "data": {
      "text/plain": [
       "array([ True,  True,  True,  True,  True,  True,  True,  True,  True,\n",
       "        True,  True,  True,  True,  True,  True,  True,  True,  True,\n",
       "        True,  True,  True,  True,  True,  True,  True,  True,  True,\n",
       "        True,  True,  True,  True,  True,  True,  True,  True,  True,\n",
       "        True,  True,  True,  True,  True])"
      ]
     },
     "execution_count": 74,
     "metadata": {},
     "output_type": "execute_result"
    }
   ],
   "source": [
    "# Confirming that auxcat and satcat have the same columns before joining\n",
    "satcat_df.columns == auxcat_df.columns"
   ]
  },
  {
   "cell_type": "code",
   "execution_count": 75,
   "metadata": {},
   "outputs": [],
   "source": [
    "# All active artificial objects in orbit\n",
    "all_obj_df = pd.concat([satcat_df, auxcat_df], axis=0)"
   ]
  },
  {
   "cell_type": "code",
   "execution_count": 76,
   "metadata": {},
   "outputs": [
    {
     "data": {
      "text/plain": [
       "Index(['#JCAT', 'Satcat', 'Piece', 'Type', 'Name', 'PLName', 'LDate', 'Parent',\n",
       "       'SDate', 'Primary', 'DDate', 'Status', 'Dest', 'Owner', 'State',\n",
       "       'Manufacturer', 'Bus', 'Motor', 'Mass', 'MassFlag', 'DryMass',\n",
       "       'DryFlag', 'TotMass', 'TotFlag', 'Length', 'LFlag', 'Diameter', 'DFlag',\n",
       "       'Span', 'SpanFlag', 'Shape', 'ODate', 'Perigee', 'PF', 'Apogee', 'AF',\n",
       "       'Inc', 'IF', 'OpOrbit', 'OQUAL', 'AltNames'],\n",
       "      dtype='object')"
      ]
     },
     "execution_count": 76,
     "metadata": {},
     "output_type": "execute_result"
    }
   ],
   "source": [
    "all_obj_df.columns"
   ]
  },
  {
   "cell_type": "code",
   "execution_count": 77,
   "metadata": {},
   "outputs": [
    {
     "name": "stderr",
     "output_type": "stream",
     "text": [
      "C:\\Users\\dfarr\\AppData\\Local\\Temp\\ipykernel_14656\\2993661639.py:4: UserWarning: Could not infer format, so each element will be parsed individually, falling back to `dateutil`. To ensure parsing is consistent and as-expected, please specify a format.\n",
      "  all_obj_df['DDate'] = pd.to_datetime(all_obj_df['DDate'], errors='coerce')\n"
     ]
    }
   ],
   "source": [
    "# Convert all date columns to datetime\n",
    "all_obj_df['LDate'] = pd.to_datetime(all_obj_df['LDate'], errors='coerce')\n",
    "all_obj_df['SDate'] = pd.to_datetime(all_obj_df['SDate'], errors='coerce')\n",
    "all_obj_df['DDate'] = pd.to_datetime(all_obj_df['DDate'], errors='coerce')\n",
    "all_obj_df['ODate'] = pd.to_datetime(all_obj_df['ODate'], errors='coerce')"
   ]
  },
  {
   "cell_type": "code",
   "execution_count": 78,
   "metadata": {},
   "outputs": [
    {
     "data": {
      "text/html": [
       "<div>\n",
       "<style scoped>\n",
       "    .dataframe tbody tr th:only-of-type {\n",
       "        vertical-align: middle;\n",
       "    }\n",
       "\n",
       "    .dataframe tbody tr th {\n",
       "        vertical-align: top;\n",
       "    }\n",
       "\n",
       "    .dataframe thead th {\n",
       "        text-align: right;\n",
       "    }\n",
       "</style>\n",
       "<table border=\"1\" class=\"dataframe\">\n",
       "  <thead>\n",
       "    <tr style=\"text-align: right;\">\n",
       "      <th></th>\n",
       "      <th>LDate</th>\n",
       "      <th>SDate</th>\n",
       "      <th>DDate</th>\n",
       "      <th>ODate</th>\n",
       "    </tr>\n",
       "  </thead>\n",
       "  <tbody>\n",
       "    <tr>\n",
       "      <th>count</th>\n",
       "      <td>71139</td>\n",
       "      <td>37914</td>\n",
       "      <td>33531</td>\n",
       "      <td>71013</td>\n",
       "    </tr>\n",
       "    <tr>\n",
       "      <th>mean</th>\n",
       "      <td>1995-01-10 21:22:45.580061568</td>\n",
       "      <td>1996-07-28 03:05:20.841905280</td>\n",
       "      <td>1996-08-01 07:09:39.216247552</td>\n",
       "      <td>2000-03-09 11:52:40.170672896</td>\n",
       "    </tr>\n",
       "    <tr>\n",
       "      <th>min</th>\n",
       "      <td>1957-10-04 00:00:00</td>\n",
       "      <td>1957-10-04 19:33:00</td>\n",
       "      <td>1957-10-17 00:00:00</td>\n",
       "      <td>1957-10-04 00:00:00</td>\n",
       "    </tr>\n",
       "    <tr>\n",
       "      <th>25%</th>\n",
       "      <td>1979-08-10 00:00:00</td>\n",
       "      <td>1981-07-24 23:51:00</td>\n",
       "      <td>1981-03-07 12:00:00</td>\n",
       "      <td>1985-07-12 00:00:00</td>\n",
       "    </tr>\n",
       "    <tr>\n",
       "      <th>50%</th>\n",
       "      <td>1993-06-16 00:00:00</td>\n",
       "      <td>2000-03-11 13:04:00</td>\n",
       "      <td>1994-12-31 00:00:00</td>\n",
       "      <td>2003-10-17 00:00:00</td>\n",
       "    </tr>\n",
       "    <tr>\n",
       "      <th>75%</th>\n",
       "      <td>2012-12-19 00:00:00</td>\n",
       "      <td>2009-02-10 16:56:00</td>\n",
       "      <td>2013-12-04 00:00:00</td>\n",
       "      <td>2018-10-01 00:00:00</td>\n",
       "    </tr>\n",
       "    <tr>\n",
       "      <th>max</th>\n",
       "      <td>2024-06-08 00:00:00</td>\n",
       "      <td>2024-06-05 04:08:00</td>\n",
       "      <td>2024-06-14 14:36:00</td>\n",
       "      <td>2203-12-23 00:00:00</td>\n",
       "    </tr>\n",
       "  </tbody>\n",
       "</table>\n",
       "</div>"
      ],
      "text/plain": [
       "                               LDate                          SDate  \\\n",
       "count                          71139                          37914   \n",
       "mean   1995-01-10 21:22:45.580061568  1996-07-28 03:05:20.841905280   \n",
       "min              1957-10-04 00:00:00            1957-10-04 19:33:00   \n",
       "25%              1979-08-10 00:00:00            1981-07-24 23:51:00   \n",
       "50%              1993-06-16 00:00:00            2000-03-11 13:04:00   \n",
       "75%              2012-12-19 00:00:00            2009-02-10 16:56:00   \n",
       "max              2024-06-08 00:00:00            2024-06-05 04:08:00   \n",
       "\n",
       "                               DDate                          ODate  \n",
       "count                          33531                          71013  \n",
       "mean   1996-08-01 07:09:39.216247552  2000-03-09 11:52:40.170672896  \n",
       "min              1957-10-17 00:00:00            1957-10-04 00:00:00  \n",
       "25%              1981-03-07 12:00:00            1985-07-12 00:00:00  \n",
       "50%              1994-12-31 00:00:00            2003-10-17 00:00:00  \n",
       "75%              2013-12-04 00:00:00            2018-10-01 00:00:00  \n",
       "max              2024-06-14 14:36:00            2203-12-23 00:00:00  "
      ]
     },
     "execution_count": 78,
     "metadata": {},
     "output_type": "execute_result"
    }
   ],
   "source": [
    "all_obj_df[['LDate', 'SDate', 'DDate', 'ODate']].describe()"
   ]
  },
  {
   "cell_type": "code",
   "execution_count": 79,
   "metadata": {},
   "outputs": [],
   "source": [
    "dec_status_values = ['E', 'S', 'R', 'D', 'L', 'LF', 'AS', 'AR', 'AR IN', 'F', 'AF', 'C', 'ERR']"
   ]
  },
  {
   "cell_type": "code",
   "execution_count": 80,
   "metadata": {},
   "outputs": [],
   "source": [
    "# Get a df with decayed/de-orbited objects\n",
    "dec_obj_df = all_obj_df[(all_obj_df['Status'].isin(dec_status_values)) & (all_obj_df['DDate'].notna())]\n",
    "\n",
    "# Get a df with active objects\n",
    "act_obj_df = all_obj_df[~all_obj_df['Status'].isin(dec_status_values)]"
   ]
  },
  {
   "cell_type": "code",
   "execution_count": 88,
   "metadata": {},
   "outputs": [
    {
     "data": {
      "text/html": [
       "<div>\n",
       "<style scoped>\n",
       "    .dataframe tbody tr th:only-of-type {\n",
       "        vertical-align: middle;\n",
       "    }\n",
       "\n",
       "    .dataframe tbody tr th {\n",
       "        vertical-align: top;\n",
       "    }\n",
       "\n",
       "    .dataframe thead th {\n",
       "        text-align: right;\n",
       "    }\n",
       "</style>\n",
       "<table border=\"1\" class=\"dataframe\">\n",
       "  <thead>\n",
       "    <tr style=\"text-align: right;\">\n",
       "      <th></th>\n",
       "      <th>#JCAT</th>\n",
       "      <th>Satcat</th>\n",
       "      <th>Piece</th>\n",
       "      <th>Type</th>\n",
       "      <th>Name</th>\n",
       "      <th>PLName</th>\n",
       "      <th>LDate</th>\n",
       "      <th>Parent</th>\n",
       "      <th>SDate</th>\n",
       "      <th>Primary</th>\n",
       "      <th>...</th>\n",
       "      <th>Perigee</th>\n",
       "      <th>PF</th>\n",
       "      <th>Apogee</th>\n",
       "      <th>AF</th>\n",
       "      <th>Inc</th>\n",
       "      <th>IF</th>\n",
       "      <th>OpOrbit</th>\n",
       "      <th>OQUAL</th>\n",
       "      <th>AltNames</th>\n",
       "      <th>LaunchYear</th>\n",
       "    </tr>\n",
       "  </thead>\n",
       "  <tbody>\n",
       "    <tr>\n",
       "      <th>1</th>\n",
       "      <td>S00001</td>\n",
       "      <td>1.0</td>\n",
       "      <td>1957 ALP 1</td>\n",
       "      <td>R2</td>\n",
       "      <td>8K71PS No. M1-10 Stage 2</td>\n",
       "      <td>8K71A M1-10 (M1-1PS)</td>\n",
       "      <td>1957-10-04</td>\n",
       "      <td>-</td>\n",
       "      <td>1957-10-04 19:33:00</td>\n",
       "      <td>Earth</td>\n",
       "      <td>...</td>\n",
       "      <td>214.0</td>\n",
       "      <td></td>\n",
       "      <td>938</td>\n",
       "      <td></td>\n",
       "      <td>65.1</td>\n",
       "      <td></td>\n",
       "      <td>LLEO/I</td>\n",
       "      <td>-</td>\n",
       "      <td>-</td>\n",
       "      <td>1957.0</td>\n",
       "    </tr>\n",
       "    <tr>\n",
       "      <th>2</th>\n",
       "      <td>S00002</td>\n",
       "      <td>2.0</td>\n",
       "      <td>1957 ALP 2</td>\n",
       "      <td>P</td>\n",
       "      <td>1-y ISZ</td>\n",
       "      <td>PS-1</td>\n",
       "      <td>1957-10-04</td>\n",
       "      <td>S00001</td>\n",
       "      <td>1957-10-04 19:33:00</td>\n",
       "      <td>Earth</td>\n",
       "      <td>...</td>\n",
       "      <td>214.0</td>\n",
       "      <td></td>\n",
       "      <td>938</td>\n",
       "      <td></td>\n",
       "      <td>65.1</td>\n",
       "      <td></td>\n",
       "      <td>LLEO/I</td>\n",
       "      <td>-</td>\n",
       "      <td>:RE,:RC</td>\n",
       "      <td>1957.0</td>\n",
       "    </tr>\n",
       "    <tr>\n",
       "      <th>3</th>\n",
       "      <td>S00003</td>\n",
       "      <td>3.0</td>\n",
       "      <td>1957 BET 1</td>\n",
       "      <td>P A</td>\n",
       "      <td>2-y ISZ</td>\n",
       "      <td>PS-2</td>\n",
       "      <td>1957-11-03</td>\n",
       "      <td>A00002</td>\n",
       "      <td>1957-11-03 02:35:00</td>\n",
       "      <td>Earth</td>\n",
       "      <td>...</td>\n",
       "      <td>211.0</td>\n",
       "      <td></td>\n",
       "      <td>1659</td>\n",
       "      <td></td>\n",
       "      <td>65.33</td>\n",
       "      <td></td>\n",
       "      <td>LEO/I</td>\n",
       "      <td>-</td>\n",
       "      <td>:RE,:RC</td>\n",
       "      <td>1957.0</td>\n",
       "    </tr>\n",
       "    <tr>\n",
       "      <th>1</th>\n",
       "      <td>A00001</td>\n",
       "      <td>NNA</td>\n",
       "      <td>1957 ALP 3</td>\n",
       "      <td>C  F</td>\n",
       "      <td>GO</td>\n",
       "      <td>Golovniy Obtekatel'</td>\n",
       "      <td>1957-10-04</td>\n",
       "      <td>S00001</td>\n",
       "      <td>1957-10-04 19:33:00</td>\n",
       "      <td>Earth</td>\n",
       "      <td>...</td>\n",
       "      <td>214</td>\n",
       "      <td></td>\n",
       "      <td>938</td>\n",
       "      <td></td>\n",
       "      <td>65.10</td>\n",
       "      <td></td>\n",
       "      <td>LLEO/I</td>\n",
       "      <td>-</td>\n",
       "      <td>-</td>\n",
       "      <td>1957.0</td>\n",
       "    </tr>\n",
       "    <tr>\n",
       "      <th>2</th>\n",
       "      <td>A00002</td>\n",
       "      <td>00003</td>\n",
       "      <td>1957 BET 1</td>\n",
       "      <td>R2</td>\n",
       "      <td>8K71PS No. M1-11 Stage 2</td>\n",
       "      <td>8K71A M1-11 (M1-2PS)</td>\n",
       "      <td>1957-11-03</td>\n",
       "      <td>-</td>\n",
       "      <td>1957-11-03 02:35:00</td>\n",
       "      <td>Earth</td>\n",
       "      <td>...</td>\n",
       "      <td>211</td>\n",
       "      <td></td>\n",
       "      <td>1659</td>\n",
       "      <td></td>\n",
       "      <td>65.33</td>\n",
       "      <td></td>\n",
       "      <td>LEO/I</td>\n",
       "      <td>-</td>\n",
       "      <td>-</td>\n",
       "      <td>1957.0</td>\n",
       "    </tr>\n",
       "    <tr>\n",
       "      <th>3</th>\n",
       "      <td>A00003</td>\n",
       "      <td>NNA</td>\n",
       "      <td>1957 BET 2</td>\n",
       "      <td>C  F</td>\n",
       "      <td>GO</td>\n",
       "      <td>Golovniy Obtekatel'</td>\n",
       "      <td>1957-11-03</td>\n",
       "      <td>A00002</td>\n",
       "      <td>1957-11-03 02:36:00</td>\n",
       "      <td>Earth</td>\n",
       "      <td>...</td>\n",
       "      <td>211</td>\n",
       "      <td></td>\n",
       "      <td>1659</td>\n",
       "      <td></td>\n",
       "      <td>65.33</td>\n",
       "      <td></td>\n",
       "      <td>LEO/I</td>\n",
       "      <td>-</td>\n",
       "      <td>-</td>\n",
       "      <td>1957.0</td>\n",
       "    </tr>\n",
       "    <tr>\n",
       "      <th>8258</th>\n",
       "      <td>A08258</td>\n",
       "      <td>NNA X</td>\n",
       "      <td>1957-U01</td>\n",
       "      <td>PX--V--</td>\n",
       "      <td>USAF 88 Charge A</td>\n",
       "      <td>Poulter Pellet</td>\n",
       "      <td>1957-10-17</td>\n",
       "      <td>R73010</td>\n",
       "      <td>NaT</td>\n",
       "      <td>Earth</td>\n",
       "      <td>...</td>\n",
       "      <td>-2000</td>\n",
       "      <td>?</td>\n",
       "      <td>-20000</td>\n",
       "      <td>?</td>\n",
       "      <td>90.00</td>\n",
       "      <td></td>\n",
       "      <td>EEO</td>\n",
       "      <td>U</td>\n",
       "      <td>-</td>\n",
       "      <td>1957.0</td>\n",
       "    </tr>\n",
       "  </tbody>\n",
       "</table>\n",
       "<p>7 rows × 42 columns</p>\n",
       "</div>"
      ],
      "text/plain": [
       "       #JCAT Satcat       Piece          Type                      Name  \\\n",
       "1     S00001    1.0  1957 ALP 1  R2            8K71PS No. M1-10 Stage 2   \n",
       "2     S00002    2.0  1957 ALP 2  P                              1-y ISZ   \n",
       "3     S00003    3.0  1957 BET 1  P A                            2-y ISZ   \n",
       "1     A00001    NNA  1957 ALP 3  C  F                                GO   \n",
       "2     A00002  00003  1957 BET 1  R2            8K71PS No. M1-11 Stage 2   \n",
       "3     A00003    NNA  1957 BET 2  C  F                                GO   \n",
       "8258  A08258  NNA X    1957-U01  PX--V--               USAF 88 Charge A   \n",
       "\n",
       "                    PLName      LDate  Parent               SDate Primary  \\\n",
       "1     8K71A M1-10 (M1-1PS) 1957-10-04       - 1957-10-04 19:33:00   Earth   \n",
       "2                     PS-1 1957-10-04  S00001 1957-10-04 19:33:00   Earth   \n",
       "3                     PS-2 1957-11-03  A00002 1957-11-03 02:35:00   Earth   \n",
       "1      Golovniy Obtekatel' 1957-10-04  S00001 1957-10-04 19:33:00   Earth   \n",
       "2     8K71A M1-11 (M1-2PS) 1957-11-03       - 1957-11-03 02:35:00   Earth   \n",
       "3      Golovniy Obtekatel' 1957-11-03  A00002 1957-11-03 02:36:00   Earth   \n",
       "8258        Poulter Pellet 1957-10-17  R73010                 NaT   Earth   \n",
       "\n",
       "      ...   Perigee PF    Apogee AF      Inc IF OpOrbit OQUAL AltNames  \\\n",
       "1     ...     214.0          938        65.1     LLEO/I     -        -   \n",
       "2     ...     214.0          938        65.1     LLEO/I     -  :RE,:RC   \n",
       "3     ...     211.0         1659       65.33      LEO/I     -  :RE,:RC   \n",
       "1     ...       214          938      65.10      LLEO/I     -        -   \n",
       "2     ...       211         1659      65.33       LEO/I     -        -   \n",
       "3     ...       211         1659      65.33       LEO/I     -        -   \n",
       "8258  ...     -2000  ?    -20000  ?   90.00         EEO     U        -   \n",
       "\n",
       "     LaunchYear  \n",
       "1        1957.0  \n",
       "2        1957.0  \n",
       "3        1957.0  \n",
       "1        1957.0  \n",
       "2        1957.0  \n",
       "3        1957.0  \n",
       "8258     1957.0  \n",
       "\n",
       "[7 rows x 42 columns]"
      ]
     },
     "execution_count": 88,
     "metadata": {},
     "output_type": "execute_result"
    }
   ],
   "source": [
    "# Get number of active satellites launched per year\n",
    "all_obj_df['LaunchYear'] = all_obj_df['LDate'].dt.year\n",
    "launches_per_yr = all_obj_df.groupby('LaunchYear').size()\n",
    "all_obj_df[all_obj_df['LaunchYear'] == 1957]"
   ]
  },
  {
   "cell_type": "code",
   "execution_count": 82,
   "metadata": {},
   "outputs": [
    {
     "name": "stderr",
     "output_type": "stream",
     "text": [
      "C:\\Users\\dfarr\\AppData\\Local\\Temp\\ipykernel_14656\\1194315790.py:2: SettingWithCopyWarning: \n",
      "A value is trying to be set on a copy of a slice from a DataFrame.\n",
      "Try using .loc[row_indexer,col_indexer] = value instead\n",
      "\n",
      "See the caveats in the documentation: https://pandas.pydata.org/pandas-docs/stable/user_guide/indexing.html#returning-a-view-versus-a-copy\n",
      "  dec_obj_df['DecayYear'] = dec_obj_df['DDate'].dt.year\n"
     ]
    }
   ],
   "source": [
    "# Get number of satellites decayed each year\n",
    "dec_obj_df['DecayYear'] = dec_obj_df['DDate'].dt.year\n",
    "decays_per_yr = dec_obj_df.groupby('DecayYear').size()"
   ]
  },
  {
   "cell_type": "code",
   "execution_count": 83,
   "metadata": {},
   "outputs": [],
   "source": [
    "# Create a dataframe to track sats in orbit each year\n",
    "years = range(int(all_obj_df['LDate'].dt.year.min()), int(all_obj_df['LDate'].dt.year.max() + 1))\n",
    "satellites_in_orbit = pd.DataFrame(years, columns=['Year']).set_index('Year')"
   ]
  },
  {
   "cell_type": "code",
   "execution_count": 84,
   "metadata": {},
   "outputs": [
    {
     "data": {
      "text/plain": [
       "LaunchYear\n",
       "1958.0        3\n",
       "1959.0       18\n",
       "1960.0       35\n",
       "1961.0      275\n",
       "1962.0      325\n",
       "          ...  \n",
       "2020.0    25527\n",
       "2021.0    27180\n",
       "2022.0    30241\n",
       "2023.0    33225\n",
       "2024.0    34524\n",
       "Length: 67, dtype: int64"
      ]
     },
     "execution_count": 84,
     "metadata": {},
     "output_type": "execute_result"
    }
   ],
   "source": [
    "launches_per_yr.cumsum()"
   ]
  },
  {
   "cell_type": "code",
   "execution_count": 85,
   "metadata": {},
   "outputs": [],
   "source": [
    "satellites_in_orbit['Launched'] = launches_per_yr.cumsum()\n",
    "satellites_in_orbit['Decayed'] = decays_per_yr.cumsum()\n",
    "satellites_in_orbit = satellites_in_orbit.fillna(0)\n",
    "satellites_in_orbit['InOrbit'] = satellites_in_orbit['Launched'] - satellites_in_orbit['Decayed']"
   ]
  },
  {
   "cell_type": "code",
   "execution_count": 86,
   "metadata": {},
   "outputs": [
    {
     "data": {
      "text/html": [
       "<div>\n",
       "<style scoped>\n",
       "    .dataframe tbody tr th:only-of-type {\n",
       "        vertical-align: middle;\n",
       "    }\n",
       "\n",
       "    .dataframe tbody tr th {\n",
       "        vertical-align: top;\n",
       "    }\n",
       "\n",
       "    .dataframe thead th {\n",
       "        text-align: right;\n",
       "    }\n",
       "</style>\n",
       "<table border=\"1\" class=\"dataframe\">\n",
       "  <thead>\n",
       "    <tr style=\"text-align: right;\">\n",
       "      <th></th>\n",
       "      <th>Launched</th>\n",
       "      <th>Decayed</th>\n",
       "      <th>InOrbit</th>\n",
       "    </tr>\n",
       "    <tr>\n",
       "      <th>Year</th>\n",
       "      <th></th>\n",
       "      <th></th>\n",
       "      <th></th>\n",
       "    </tr>\n",
       "  </thead>\n",
       "  <tbody>\n",
       "    <tr>\n",
       "      <th>2018</th>\n",
       "      <td>24047.0</td>\n",
       "      <td>23435</td>\n",
       "      <td>612.0</td>\n",
       "    </tr>\n",
       "    <tr>\n",
       "      <th>1959</th>\n",
       "      <td>18.0</td>\n",
       "      <td>27</td>\n",
       "      <td>-9.0</td>\n",
       "    </tr>\n",
       "    <tr>\n",
       "      <th>1963</th>\n",
       "      <td>479.0</td>\n",
       "      <td>494</td>\n",
       "      <td>-15.0</td>\n",
       "    </tr>\n",
       "    <tr>\n",
       "      <th>1986</th>\n",
       "      <td>8134.0</td>\n",
       "      <td>10697</td>\n",
       "      <td>-2563.0</td>\n",
       "    </tr>\n",
       "    <tr>\n",
       "      <th>1967</th>\n",
       "      <td>1520.0</td>\n",
       "      <td>1958</td>\n",
       "      <td>-438.0</td>\n",
       "    </tr>\n",
       "  </tbody>\n",
       "</table>\n",
       "</div>"
      ],
      "text/plain": [
       "      Launched  Decayed  InOrbit\n",
       "Year                            \n",
       "2018   24047.0    23435    612.0\n",
       "1959      18.0       27     -9.0\n",
       "1963     479.0      494    -15.0\n",
       "1986    8134.0    10697  -2563.0\n",
       "1967    1520.0     1958   -438.0"
      ]
     },
     "execution_count": 86,
     "metadata": {},
     "output_type": "execute_result"
    }
   ],
   "source": [
    "satellites_in_orbit.sample(5)"
   ]
  }
 ],
 "metadata": {
  "kernelspec": {
   "display_name": "base",
   "language": "python",
   "name": "python3"
  },
  "language_info": {
   "codemirror_mode": {
    "name": "ipython",
    "version": 3
   },
   "file_extension": ".py",
   "mimetype": "text/x-python",
   "name": "python",
   "nbconvert_exporter": "python",
   "pygments_lexer": "ipython3",
   "version": "3.11.7"
  }
 },
 "nbformat": 4,
 "nbformat_minor": 2
}
